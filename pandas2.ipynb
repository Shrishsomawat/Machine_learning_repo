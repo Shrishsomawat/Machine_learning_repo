{
 "cells": [
  {
   "cell_type": "code",
   "execution_count": 2,
   "id": "d0e5f08f",
   "metadata": {},
   "outputs": [
    {
     "data": {
      "text/html": [
       "<div>\n",
       "<style scoped>\n",
       "    .dataframe tbody tr th:only-of-type {\n",
       "        vertical-align: middle;\n",
       "    }\n",
       "\n",
       "    .dataframe tbody tr th {\n",
       "        vertical-align: top;\n",
       "    }\n",
       "\n",
       "    .dataframe thead th {\n",
       "        text-align: right;\n",
       "    }\n",
       "</style>\n",
       "<table border=\"1\" class=\"dataframe\">\n",
       "  <thead>\n",
       "    <tr style=\"text-align: right;\">\n",
       "      <th></th>\n",
       "      <th>date</th>\n",
       "      <th>temprature</th>\n",
       "      <th>windspeed</th>\n",
       "      <th>weather</th>\n",
       "    </tr>\n",
       "  </thead>\n",
       "  <tbody>\n",
       "    <tr>\n",
       "      <th>0</th>\n",
       "      <td>12-11-2021</td>\n",
       "      <td>21</td>\n",
       "      <td>3</td>\n",
       "      <td>cold</td>\n",
       "    </tr>\n",
       "    <tr>\n",
       "      <th>1</th>\n",
       "      <td>13-11-2021</td>\n",
       "      <td>34</td>\n",
       "      <td>4</td>\n",
       "      <td>rainy</td>\n",
       "    </tr>\n",
       "    <tr>\n",
       "      <th>2</th>\n",
       "      <td>14-11-2021</td>\n",
       "      <td>54</td>\n",
       "      <td>5</td>\n",
       "      <td>hot</td>\n",
       "    </tr>\n",
       "    <tr>\n",
       "      <th>3</th>\n",
       "      <td>15-11-2021</td>\n",
       "      <td>16</td>\n",
       "      <td>6</td>\n",
       "      <td>cold</td>\n",
       "    </tr>\n",
       "    <tr>\n",
       "      <th>4</th>\n",
       "      <td>16-11-2021</td>\n",
       "      <td>56</td>\n",
       "      <td>7</td>\n",
       "      <td>hot</td>\n",
       "    </tr>\n",
       "    <tr>\n",
       "      <th>5</th>\n",
       "      <td>17-11-2021</td>\n",
       "      <td>33</td>\n",
       "      <td>8</td>\n",
       "      <td>sunny</td>\n",
       "    </tr>\n",
       "    <tr>\n",
       "      <th>6</th>\n",
       "      <td>18-11-2021</td>\n",
       "      <td>45</td>\n",
       "      <td>9</td>\n",
       "      <td>hot</td>\n",
       "    </tr>\n",
       "    <tr>\n",
       "      <th>7</th>\n",
       "      <td>19-11-2021</td>\n",
       "      <td>23</td>\n",
       "      <td>3</td>\n",
       "      <td>cold</td>\n",
       "    </tr>\n",
       "    <tr>\n",
       "      <th>8</th>\n",
       "      <td>20-11-2021</td>\n",
       "      <td>43</td>\n",
       "      <td>4</td>\n",
       "      <td>hot</td>\n",
       "    </tr>\n",
       "  </tbody>\n",
       "</table>\n",
       "</div>"
      ],
      "text/plain": [
       "         date  temprature  windspeed weather\n",
       "0  12-11-2021          21          3    cold\n",
       "1  13-11-2021          34          4   rainy\n",
       "2  14-11-2021          54          5     hot\n",
       "3  15-11-2021          16          6    cold\n",
       "4  16-11-2021          56          7     hot\n",
       "5  17-11-2021          33          8   sunny\n",
       "6  18-11-2021          45          9     hot\n",
       "7  19-11-2021          23          3    cold\n",
       "8  20-11-2021          43          4     hot"
      ]
     },
     "execution_count": 2,
     "metadata": {},
     "output_type": "execute_result"
    }
   ],
   "source": [
    "import pandas as pd\n",
    "df=pd.read_csv('shivaweather.csv')\n",
    "df"
   ]
  },
  {
   "cell_type": "code",
   "execution_count": 3,
   "id": "1b5bdf28",
   "metadata": {},
   "outputs": [
    {
     "data": {
      "text/plain": [
       "56"
      ]
     },
     "execution_count": 3,
     "metadata": {},
     "output_type": "execute_result"
    }
   ],
   "source": [
    "df['temprature'].max()"
   ]
  },
  {
   "cell_type": "code",
   "execution_count": 4,
   "id": "041b84b3",
   "metadata": {},
   "outputs": [
    {
     "data": {
      "text/plain": [
       "2    14-11-2021\n",
       "4    16-11-2021\n",
       "6    18-11-2021\n",
       "8    20-11-2021\n",
       "Name: date, dtype: object"
      ]
     },
     "execution_count": 4,
     "metadata": {},
     "output_type": "execute_result"
    }
   ],
   "source": [
    "df['date'][df['weather']=='hot']"
   ]
  },
  {
   "cell_type": "code",
   "execution_count": null,
   "id": "18bc9340",
   "metadata": {},
   "outputs": [],
   "source": []
  }
 ],
 "metadata": {
  "kernelspec": {
   "display_name": "Python 3",
   "language": "python",
   "name": "python3"
  },
  "language_info": {
   "codemirror_mode": {
    "name": "ipython",
    "version": 3
   },
   "file_extension": ".py",
   "mimetype": "text/x-python",
   "name": "python",
   "nbconvert_exporter": "python",
   "pygments_lexer": "ipython3",
   "version": "3.8.8"
  }
 },
 "nbformat": 4,
 "nbformat_minor": 5
}
